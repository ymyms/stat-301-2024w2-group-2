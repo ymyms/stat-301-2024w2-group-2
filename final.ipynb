{
 "cells": [
  {
   "cell_type": "markdown",
   "id": "7fd26c8a-fee9-4649-8934-3aeba6d42a42",
   "metadata": {},
   "source": [
    "# Restaurant Tips: Which variables — payer’s gender, smoking status, day of the week, time of day, and party size — are associated with the tip percentage?"
   ]
  },
  {
   "cell_type": "markdown",
   "id": "a68d01a1-c78e-496c-9695-985c15644ab2",
   "metadata": {},
   "source": [
    "Group name: 2 / Student names: Rafa Africa, Ben Ni, Yingming Sha, Michael Tham\n",
    "\n",
    "Course: STAT 301 Section 201 / Date: 04/06/2025 "
   ]
  },
  {
   "cell_type": "markdown",
   "id": "559f8e58-639e-4deb-bda9-2dcc7746f535",
   "metadata": {},
   "source": [
    "## (1) Introduction"
   ]
  },
  {
   "cell_type": "markdown",
   "id": "819deded",
   "metadata": {},
   "source": [
    "Tipping is a widespread social norm in service industries, particularly in restaurants, where it can contribute significantly to employee income. However, tipping behavior is not entirely uniform—numerous studies have found that factors such as customer demographics, situational context, and group dynamics can all influence how much people tip (Jewell, 2008). Understanding what drives tipping behavior is valuable not only for economic modeling, but also for helping restaurant managers and servers improve their service strategies and expectations.\n",
    "\n",
    "This study explores whether variables such as payer’s gender, smoking status, day of the week, time of day, and party size are associated with the tip percentage left in a restaurant setting. Research has shown that, for instance, tipping tends to decrease as party size increases, likely due to a diffusion of responsibility or shared norms within larger groups (Haugom & Thrane, 2022). Similarly, differences in tipping patterns have been observed based on temporal variables like weekday vs. weekend or lunch vs. dinner (Jewell, 2008).\n",
    "\n",
    "Building upon these insights, this study aims to investigate the relationships between specific variables—payer’s gender, smoking status, day of the week, time of day, and dining party size—and tip percentage in a restaurant setting.\n",
    "\n",
    "This study contributes to the existing body of knowledge on tipping behavior by focusing on specific variables that have been identified in prior research as potential influencers of tipping practices. By examining these factors collectively, the study aims to provide a comprehensive understanding of their individual and combined effects on tip percentages."
   ]
  },
  {
   "cell_type": "markdown",
   "id": "22f122d3-4733-478c-856b-be071e95836f",
   "metadata": {},
   "source": [
    "### Research Question\n",
    "**Our Research Question**: Which variables, payer's gender, smoking status, day of the week, time of day, and dining party size, are associated with the tip percentage in a restaurant?\n",
    "\n",
    "**Response variable** - tip percentage (total bill divided by the tip amount left by customer);\n",
    "\n",
    "**Explanatory variables** - sex (gender), day (day of the week), time (Lunch or Dinner), and party size.\n",
    "\n",
    "**Explanation**: This question is focused on **inference**, as it aims to understand the relationships between the sex, smoker, day, time, party size and the tip percentage. The goal is to identify which factors are significant in determining the tip percentage, rather than predicting individual tip percentage for future transactions."
   ]
  },
  {
   "cell_type": "markdown",
   "id": "8a1c86fa-7490-4198-9b1a-9d6662dcace1",
   "metadata": {},
   "source": [
    "## (2) Methods and Results"
   ]
  },
  {
   "cell_type": "code",
   "execution_count": null,
   "id": "6d0e14fc-492e-448f-a202-608e9672a65c",
   "metadata": {
    "vscode": {
     "languageId": "r"
    }
   },
   "outputs": [],
   "source": [
    "# First we load the library\n",
    "library(tidyverse)\n",
    "library(gridExtra) # for visualization\n",
    "library(MASS) # for selection\n",
    "library(car) # for vif\n",
    "library(httr) # load data\n",
    "library(rsample) # for train-test split\n",
    "library(broom) # for glance()"
   ]
  },
  {
   "cell_type": "markdown",
   "id": "66bc172f-049f-48a7-8c1d-a8563f8a33ed",
   "metadata": {},
   "source": [
    "### a) Data "
   ]
  },
  {
   "cell_type": "markdown",
   "id": "e421f5d4-12c1-4597-9894-e3b0e3217be1",
   "metadata": {},
   "source": [
    "#### Data Description \n",
    "\n",
    "The \"Restaurant Tips Dataset\" details tipping behavior in a restaurant setting. The dataset was collected over an long period of time and includes a variety of factors that may influence the amount a customer tips. Each entry represents a unique transaction, recording details such as the bill amount, tip given, gender of the payer, smoking preference, day of the week, time of day, and number of diners. This data contains 244 observations and 7 variables. The continuous variables are total_bill, tip, and size, while the categorical variables are sex, smoker, day, and time. \n",
    "\n",
    "The dataset used in this study was collected through observational means, meaning the data reflects real-world restaurant transactions without any experimental manipulation. As such, while we can investigate associations between variables and tip percentage, causal conclusions cannot be drawn."
   ]
  },
  {
   "cell_type": "markdown",
   "id": "3b5d93d2-9b7b-43fe-a5db-f5c79537ae69",
   "metadata": {},
   "source": [
    "**Description of each variable:**\n",
    "\n",
    "| id | Key       | Description|\n",
    "|----|-----------|-----------------------------------------------------------|\n",
    "|1   |total_bill | Total bill amount in dollars                               |\n",
    "|2   |tip        | Tip amount in dollars                                      |\n",
    "|3   |sex        | Gender of the person paying the bill (Male/Female)         |\n",
    "|4   |smoker     | Whether the person is a smoker (Yes/No)                    |\n",
    "|5   |day        | Day of the transaction (Thur/Fri/Sat/Sun)                  |\n",
    "|6   |time       | Time of day when the transaction took place (Lunch/Dinner) |\n",
    "|7   |size       | Size of the dining party (number of people)                |"
   ]
  },
  {
   "cell_type": "markdown",
   "id": "9848adaa",
   "metadata": {},
   "source": [
    "**Source and information**"
   ]
  },
  {
   "cell_type": "markdown",
   "id": "7f94d887",
   "metadata": {},
   "source": [
    "According to the owner of this dataset, Saurabh Badole, the data in this dataset was collected from a popular restaurant over a specified period (Badole, 2024). I retreived this dataset through Badole publishing it on Kaggle."
   ]
  },
  {
   "cell_type": "markdown",
   "id": "b9900042-ef68-4f6d-aee0-b3f39ebeec84",
   "metadata": {},
   "source": [
    "**Justification**: For this research question, total_bill and tip will be dropped since the tip percentage is calculated based on these two covariates. If we include these two covariates, there will be a multicollinearity issue."
   ]
  },
  {
   "cell_type": "code",
   "execution_count": null,
   "id": "ff84b0ab-b54a-40b5-b81f-ccfc97f699d1",
   "metadata": {
    "vscode": {
     "languageId": "r"
    }
   },
   "outputs": [],
   "source": [
    "# Read the data into R\n",
    "invisible(\n",
    "GET(\n",
    "  url = \"https://www.kaggle.com/api/v1/datasets/download/saurabhbadole/restaurant-tips-dataset\",\n",
    "  authenticate(\"yingmingsha\", \"c52dacb47dd5f58ebfe40f4eb435b1b4\", type = \"basic\"),\n",
    "  write_disk(\"restaurant-tips-dataset.zip\", overwrite = TRUE)\n",
    "    )\n",
    ")\n",
    "\n",
    "unzip(\"restaurant-tips-dataset.zip\")\n",
    "\n",
    "tips <- read.csv(\"tips.csv\")\n",
    "\n",
    "head(tips)"
   ]
  },
  {
   "cell_type": "markdown",
   "id": "fb1bb32d-2751-4114-a189-b00da4ccb63d",
   "metadata": {},
   "source": [
    "### b) Exploratory Data Analysis (EDA)\n",
    "- Include 2 effective and creative visualizations : explore the association of some potential explanatory variables with the response (use colours, point types, point size and/or faceting to include more variables) and highlight potential problems (e.g., multicollinearity or outliers)\n",
    "- Transform some variables if needed and include a clear explanation (e.g. log-transformation may be useful when outliers are present)\n",
    "- Any summary tables that are relevant to your analysis (e.g., summarize number of observation in groups, indicate if NAs exist)\n",
    "- Be sure not to print output that takes up a lot of screen space!\n"
   ]
  },
  {
   "cell_type": "code",
   "execution_count": null,
   "id": "10852f13-e27f-4c6a-888b-72b0ef11257f",
   "metadata": {
    "vscode": {
     "languageId": "r"
    }
   },
   "outputs": [],
   "source": [
    "# Main developer: Yingming \n",
    "\n",
    "# Check missing values and duplicated rows\n",
    "summary_table <- tibble(\n",
    "  Metric = c(\"Total Missing Values\", \"Total Duplicate Rows\"),\n",
    "  Count = c(sum(is.na(tips)), sum(duplicated(tips))) \n",
    ")\n",
    "summary_table"
   ]
  },
  {
   "cell_type": "code",
   "execution_count": null,
   "id": "9c4fdd71-2a95-413d-be47-f0ee7e574dcf",
   "metadata": {
    "vscode": {
     "languageId": "r"
    }
   },
   "outputs": [],
   "source": [
    "# Main developer: Yingming \n",
    "\n",
    "# Clean and wrangle the data into a tidy format\n",
    "tip_clean <- tips %>%\n",
    "    distinct() %>% # remove duplicated row\n",
    "    mutate(tip_per = tip / total_bill * 100) # calculate the bill percentage \n",
    "\n",
    "tip_final <- tip_clean %>%\n",
    "    dplyr::select(-total_bill, -tip) # drop 'total_bill' and 'tip' columns (justification given above)"
   ]
  },
  {
   "cell_type": "code",
   "execution_count": null,
   "id": "3f7aaa47-48fb-4465-8e86-32c8049619c3",
   "metadata": {
    "vscode": {
     "languageId": "r"
    }
   },
   "outputs": [],
   "source": [
    "# Main developer: Yingming\n",
    "\n",
    "# Summary tables that are relevant to the analysis\n",
    "summary_table_sex <- tip_final %>%\n",
    "  group_by(sex) %>%\n",
    "  summarize(\n",
    "      Count = n(),                         # Total count\n",
    "      Mean = mean(tip_per, na.rm = TRUE)   # Mean\n",
    "  )\n",
    "\n",
    "summary_table_smo <- tip_final %>%\n",
    "  group_by(smoker) %>%\n",
    "  summarize(\n",
    "    Count = n(),                                  \n",
    "    Mean = mean(tip_per, na.rm = TRUE) \n",
    "  )\n",
    "\n",
    "summary_table_day <- tip_final %>%\n",
    "  group_by(day) %>%\n",
    "  summarize(\n",
    "    Count = n(),                               \n",
    "    Mean = mean(tip_per, na.rm = TRUE)\n",
    "  )\n",
    "\n",
    "summary_table_time <- tip_final %>%\n",
    "  group_by(time) %>%\n",
    "  summarize(\n",
    "    Count = n(),                                \n",
    "    Mean = mean(tip_per, na.rm = TRUE)\n",
    "  )\n",
    "\n",
    "summary_table_size <- tip_final %>%\n",
    "  group_by(size) %>%\n",
    "  summarize(\n",
    "      Count = n(),      \n",
    "      Mean = mean(tip_per, na.rm = TRUE)   \n",
    "  )\n",
    "\n",
    "grid.arrange(\n",
    "  tableGrob(summary_table_sex), tableGrob(summary_table_smo),\n",
    "  tableGrob(summary_table_day), tableGrob(summary_table_time),\n",
    "  ncol = 2\n",
    ")"
   ]
  },
  {
   "cell_type": "markdown",
   "id": "2d8d7f25-76be-4e91-b9e5-ef42b1117ee6",
   "metadata": {},
   "source": [
    "**Interpretation of Summary Tables:**\n",
    "\n",
    "Since the dataset contains more categorical variables, the summary tables provide a basic overview of each covariate in relation to our response variable. From the tables, we can see that there is not much difference in the average tip percentage across sex, smoker status, day, and time. However, for party size, there appears to be a potential decrease in the average tip percentage as the party size increases."
   ]
  },
  {
   "cell_type": "code",
   "execution_count": null,
   "id": "9b0c86bf-5f4c-445e-8e89-377bc05a2044",
   "metadata": {
    "vscode": {
     "languageId": "r"
    }
   },
   "outputs": [],
   "source": [
    "# need 2 visualizations (my previous visualization is about total_bill, does anyone have other visualization?) (!)"
   ]
  },
  {
   "cell_type": "code",
   "execution_count": null,
   "id": "ad2bd118",
   "metadata": {
    "vscode": {
     "languageId": "r"
    }
   },
   "outputs": [],
   "source": [
    "# Scatterplot showing the tip percentages against the total bill\n",
    "tips_plot <- \n",
    "  tips %>%\n",
    "  ggplot(aes(x = total_bill, y = tip/total_bill, color = sex)) +  \n",
    "  geom_smooth(method = \"lm\", se = FALSE, linewidth = 1.5) +  \n",
    "  geom_point() +\n",
    "  facet_grid(time ~ day) +\n",
    "  ggtitle(\"Tip Amount vs. Total Bill by Time and Day\") +\n",
    "  xlab(\"Total Bill ($)\") +\n",
    "  ylab(\"Tip ($)\") +\n",
    "  labs(color = \"Sex\")  \n",
    "\n",
    "tips_plot"
   ]
  },
  {
   "cell_type": "markdown",
   "id": "52eb964a-557b-4523-a621-29aed58356c0",
   "metadata": {},
   "source": [
    "**The reasons why visualizations are relevant**: \n",
    "\n",
    "(!)"
   ]
  },
  {
   "cell_type": "markdown",
   "id": "f7304b46-6a2d-4e54-abf9-a92a21292f77",
   "metadata": {},
   "source": [
    "### c) Methods: Plan\n",
    "- Describe in written English the methods you used to perform your analysis from beginning to end.\n",
    "- Provide a detailed justification of the method(s) used. The analysis must be based primarily on methods learned in the class (other method can be used for comparison).\n",
    "- Make sure that the analysis responded the question posed and that the proposed method is appropriate for the characteristics of the data.\n",
    "- If variable selection methods are used, justify the method used and explain what data will be used.\n",
    "- If various models will be compared explain how you will select a final one.\n",
    "- Make sure to interpret/explain the results you obtain. It’s not enough to just say, “I fitted a linear model with these covariates, and my R-square is 0.87”: If inference is the aim of your project, a detailed interpretation of your fitted model is required, as well as a discussion of relevant quantities. For example, which coefficient(s) is(are) statistically significant? interpretation of significant coefficients, how does the model fit the data? among other points; If prediction is the project's aim, describe the test data used or how it was created; In both cases, a careful model assessment must be conducted.\n",
    "- Include no more than 3 visualizations and/or tables to support your points. Ensure your tables and/or figures are labelled with a figure/table number and readable fonts.\n",
    "\n",
    "Code: all the analysis, from reading the data to visualizing results, must be based on clean, reproducible and well-commented code"
   ]
  },
  {
   "cell_type": "markdown",
   "id": "95dbb56a-7ddc-4751-94b3-82c29ede879b",
   "metadata": {},
   "source": [
    "**Proposed Method:** Multiple Linear Regression\n",
    "\n",
    "**Why is this method appropriate?**\n",
    "\n",
    "This method is suitable because it allows us to model the relationship between a continuous response variable (tip percentage) and multiple predictor variables. The coefficients of the regression model will give us clear insights into how each predictor influences the tip percentage and easy to interpret.\n",
    "\n",
    "**Which assumptions are required, if any, to apply the method selected?**\n",
    "1. Linearity: The relationship between the predictors and the response variable is assumed to be linear. \n",
    "2. Independence: Observations are assumed to be independent of each other, meaning that the tip percentage of one transaction doesn’t affect others.\n",
    "3. Homoscedasticity: The variance of the residuals (errors) is assumed to be constant across all levels of the predictors.\n",
    "4. Normality of Residuals: The residuals are assumed to follow a normal distribution.\n",
    "\n",
    "**What are the potential limitations or weaknesses of the method selected?**\n",
    "1. Linearity Assumption: If the relationship between the predictors and the tip percentage is non-linear, the model may not perform well. \n",
    "2. Multicollinearity: If any of the predictors are highly correlated with each other (e.g., **day** and **time**), it could lead to multicollinearity, where it becomes difficult to isolate the effect of individual predictors. However, this can be checked using vif().\n",
    "\n",
    "**Variable Selection Method:** Stepwise Selection\n",
    "\n",
    "We will be using stepwise selection to refine our model and identify the most significant predictors of tip percentage. Stepwise selection is useful when there is some uncertainty about which predictors are most relevant, as it allows for both adding and removing variables based on statistical criteria. \n",
    "\n",
    "We will apply stepwise selection using AIC, which balances model fit and complexity. The response variable is tip percentage, and the predictors initially considered were sex, smoker status, day, time, and size."
   ]
  },
  {
   "cell_type": "markdown",
   "id": "22cf81c3-e146-4ade-8363-277d75e624bf",
   "metadata": {},
   "source": [
    "#### Computational Code and Output"
   ]
  },
  {
   "cell_type": "code",
   "execution_count": null,
   "id": "ce3468c4-f56f-4f70-8130-fa98232ef720",
   "metadata": {
    "vscode": {
     "languageId": "r"
    }
   },
   "outputs": [],
   "source": [
    "# Main developer: Yingming \n",
    "\n",
    "tip_full_model <- lm(tip_per ~ ., data = tip_final)\n",
    "\n",
    "# Check multicollinearity in the full Model\n",
    "vif(tip_full_model) \n",
    "\n",
    "summary(tip_full_model)"
   ]
  },
  {
   "cell_type": "markdown",
   "id": "ff5b9325-b584-408b-adf1-0371847f6dd4",
   "metadata": {},
   "source": [
    "**Initial Analysis:**\n",
    "\n",
    "Based on the VIF, `day` and `time` exhibit multicollinearity. From the summary(), we observe the following:\n",
    "\n",
    "- sexMale: Coefficient = -0.87 (p = 0.299), suggesting that men tip 0.87% less than women. However, this result is not statistically significant.\n",
    "- smokerYes: Coefficient = 0.39 (p = 0.648), indicating that smokers tip 0.39% more than non-smokers. But this effect is also not statistically significant.\n",
    "- day (reference: Friday): There are no statistically significant differences in tipping between days (Saturday, Sunday, Thursday), based on the p-values.\n",
    "- timeLunch: Coefficient = 2.34 (p = 0.373), suggesting that lunch customers tip 2.34% more than dinner customers, but this effect is not significant.\n",
    "- size: Coefficient = -0.97 (p = 0.023), meaning larger parties tip 0.97% less. This result is statistically significant.\n",
    "\n",
    "Fitting the full model provides some insight into how the predictor variables relate to the response variable. However, to improve the model, we will now apply a variable selection method to identify a more optimal model."
   ]
  },
  {
   "cell_type": "code",
   "execution_count": null,
   "id": "bf82b102-b682-460b-8baf-0f90cd861cc9",
   "metadata": {
    "vscode": {
     "languageId": "r"
    }
   },
   "outputs": [],
   "source": [
    "# Main developer: Yingming \n",
    "\n",
    "# Split data into training and testing sets\n",
    "set.seed(123)  \n",
    "tip_split <- initial_split(tip_final, prop = 0.7, strata = tip_per)  # 70% train, 30% test\n",
    "tip_train <- training(tip_split)\n",
    "tip_test <- testing(tip_split)\n",
    "\n",
    "# Fit model using training data\n",
    "# Full model with all covariates\n",
    "tip_full_train <- lm(tip_per ~ ., data = tip_train)\n",
    "\n",
    "# Perform stepwise selection\n",
    "tip_backward <- stepAIC(tip_full_train, direction = \"backward\", k = 2)"
   ]
  },
  {
   "cell_type": "markdown",
   "id": "af10f550-71be-4cac-b4ab-46de6695c126",
   "metadata": {},
   "source": [
    "Using stepwise selection, it was found that party size (`size`) is the most important factor influencing tip percentage, while other variables (such as sex, smoker status, day of the week, and time of day) do not contribute meaningfully when party size is accounted for. This finding aligns with our previous interpretation of the full model, where party size was the only significant predictor of tip percentage."
   ]
  },
  {
   "cell_type": "code",
   "execution_count": null,
   "id": "ae52e0f2-b600-41f1-9ab2-4ebc8842a11a",
   "metadata": {
    "vscode": {
     "languageId": "r"
    }
   },
   "outputs": [],
   "source": [
    "# Main developer: Yingming \n",
    "\n",
    "# Fit the model using the selected variables\n",
    "tip_select <- lm(tip_per ~ size, data = tip_train)\n",
    "\n",
    "# Compare the selected model and the full model using ANOVA\n",
    "anova(tip_select, tip_full_train)"
   ]
  },
  {
   "cell_type": "markdown",
   "id": "c3eaede4-d4da-4d2a-be6d-3aad56f43766",
   "metadata": {},
   "source": [
    "**Interpretation of the result**:\n",
    "\n",
    "According to the ANOVA results, there is no significant difference between the full model and the simplified model. The p-value of 0.29 (greater than 0.05) indicates that the full model with the additional predictors does not fit significantly better than the simplified model. Therefore, the reduced model might be sufficient."
   ]
  },
  {
   "cell_type": "code",
   "execution_count": null,
   "id": "09217998-ee14-4a2a-aa00-6437bbeab956",
   "metadata": {
    "vscode": {
     "languageId": "r"
    }
   },
   "outputs": [],
   "source": [
    "# Main developer: Yingming \n",
    "\n",
    "pred_select <- predict(tip_select, newdata = tip_test)\n",
    "rmse_select <- sqrt(mean((tip_test$tip_per - pred_select)^2))\n",
    "\n",
    "# Calculate RMSE for the full model\n",
    "pred_full <- predict(tip_full_train, newdata = tip_test) \n",
    "rmse_full <- sqrt(mean((tip_test$tip_per - pred_full)^2))\n",
    "\n",
    "# Calculate R^2 values\n",
    "total <- sum((tip_test$tip_per - mean(tip_test$tip_per))^2)\n",
    "residual_select <- sum((tip_test$tip_per - pred_select)^2)\n",
    "r2_select <- 1 - (residual_select / total)\n",
    "\n",
    "residual_full <- sum((tip_test$tip_per - pred_full)^2)\n",
    "r2_full <- 1 - (residual_full / total)\n",
    "\n",
    "# Create a data frame to store results\n",
    "results <- data.frame(\n",
    "  Model = c(\"Selected Model\", \"Full Model\"),\n",
    "  RMSE = c(rmse_select, rmse_full),\n",
    "  R_2 = c(r2_select, r2_full)\n",
    ")\n",
    "\n",
    "# Print the table\n",
    "print(results)"
   ]
  },
  {
   "cell_type": "markdown",
   "id": "aaf8d8aa-7f6a-41f6-ae5f-b17fde68a63f",
   "metadata": {},
   "source": [
    "The selected model has a lower RMSE (4.854) compared to the full model (5.143), indicating better prediction accuracy. The selected model also has a positive R² (0.060), meaning it explains 6% of the variation in the response, while the full model has a negative R² (-0.055), suggesting poor performance. Therefore, the selected model is the better choice."
   ]
  },
  {
   "cell_type": "code",
   "execution_count": null,
   "id": "26779b32-eb26-441d-a4bc-8eca646efe2b",
   "metadata": {
    "vscode": {
     "languageId": "r"
    }
   },
   "outputs": [],
   "source": [
    "# Residual plot\n",
    "# Calculate residuals for the selected model\n",
    "residual_select <- tip_test$tip_per - pred_select\n",
    "\n",
    "# Calculate residuals for the full model\n",
    "residual_full <- tip_test$tip_per - pred_full\n",
    "\n",
    "# Residual Plot for Selected Model\n",
    "plot(pred_select, residual_select, \n",
    "     main = \"Residual Plot: Selected Model\", \n",
    "     xlab = \"Predicted Values\", \n",
    "     ylab = \"Residuals\")\n",
    "\n",
    "# Residual Plot for Full Model\n",
    "plot(pred_full, residual_full, \n",
    "     main = \"Residual Plot: Full Model\", \n",
    "     xlab = \"Predicted Values\", \n",
    "     ylab = \"Residuals\")"
   ]
  },
  {
   "cell_type": "markdown",
   "id": "36631486-be16-4300-8f66-7051ccfa0233",
   "metadata": {},
   "source": [
    "(help... The graphs contradict the numbers (R² and RMSE). There might be something wrong with my code???)\n",
    "\n",
    "Residual Plot: Selected Model\n",
    "There's noticeable non-random pattern, which suggests heteroscedasticity (non-constant variance).\n",
    "\n",
    "Residual Plot: Full Model\n",
    "The points look more randomly scattered, which is ideal.\n",
    "\n",
    "The Full Model's residuals appear more random and evenly distributed, which is a key assumption in linear regression (residuals should be randomly scattered with constant variance and mean near zero). The Selected Model violates this by showing strong clustering and signs of heteroscedasticity. \n",
    "\n",
    "RMSE and R² suggest the selected model is better for prediction accuracy.\n",
    "\n",
    "Residual plots suggest the full model might be more appropriate in terms of assumptions."
   ]
  },
  {
   "cell_type": "markdown",
   "id": "1e40e88b-bfb0-4b41-8de9-606836742219",
   "metadata": {},
   "source": [
    "### (3) Discussion (!)\n",
    "In this section, you’ll interpret and reflect on the results you obtained in the previous section with respect to the main question/goal of your project.\n",
    "- Summarize what you found and the implications/impact of your findings\n",
    "- If relevant, discuss whether your results were what you expected to find\n",
    "- Discuss how your model could be improved\n",
    "\n",
    "\n",
    "- Discuss future questions/research this study could lead to\n",
    "This study opens the door to several potential avenues for future research. One major limitation of the current analysis is the lack of variables related to service quality, customer income level, or restaurant type, all of which could meaningfully influence tipping behavior. Future studies could investigate how interpersonal dynamics, such as server friendliness or attentiveness, interact with customer demographics to affect tipping. Additionally, incorporating longitudinal or transactional data could help explore temporal patterns in tipping, such as whether tipping behavior changes over time or during holidays. Expanding this analysis to a larger, more diverse sample across different cities or restaurant chains could also provide insight into how regional or cultural factors shape tipping norms. Finally, if experimental or quasi-experimental data were available, future work could attempt to move beyond inference toward causal analysis, exploring whether targeted interventions (e.g., menu messaging or suggested tips) actually influence customer tipping decisions."
   ]
  },
  {
   "cell_type": "markdown",
   "id": "1b1eea44-1db0-4c8c-af5e-d63c3fa53a3a",
   "metadata": {},
   "source": [
    "### (4) References (!)\n",
    "\n",
    "Badole, S. (2021). Restaurant Tips Dataset. Kaggle. https://www.kaggle.com/datasets/saurabhbadole/restaurant-tips-dataset/data\n",
    "\n",
    "Haugom, E., & Thrane, C. (2022). The Effects of Party Size and Dining Time on Restaurant Patrons’ Tipping Behavior: Results from a Large-Scale Transaction Database. Retrieved from https://papers.ssrn.com/sol3/Delivery.cfm/SSRN_ID4101280_code5225184.pdf?abstractid=4101280&mirid=1\n",
    "\n",
    "Jewell, C. N. (2008). Factors Influencing Tipping Behavior in a Restaurant. Psi Chi Journal of Undergraduate Research, 13(1), 38–48. Retrieved from https://cdn.ymaws.com/www.psichi.org/resource/resmgr/journal_2008/Spring08JNJewell.pdf"
   ]
  },
  {
   "cell_type": "markdown",
   "id": "3516e2a2",
   "metadata": {},
   "source": []
  }
 ],
 "metadata": {
  "kernelspec": {
   "display_name": "R",
   "language": "R",
   "name": "ir"
  },
  "language_info": {
   "codemirror_mode": "r",
   "file_extension": ".r",
   "mimetype": "text/x-r-source",
   "name": "R",
   "pygments_lexer": "r",
   "version": "4.4.2"
  }
 },
 "nbformat": 4,
 "nbformat_minor": 5
}
