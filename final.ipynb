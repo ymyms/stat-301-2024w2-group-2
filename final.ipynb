{
 "cells": [
  {
   "cell_type": "markdown",
   "id": "7fd26c8a-fee9-4649-8934-3aeba6d42a42",
   "metadata": {},
   "source": [
    "# Restaurant Tips: Which variables — payer’s gender, smoking status, day of the week, time of day, and party size — are associated with the tip percentage?"
   ]
  },
  {
   "cell_type": "markdown",
   "id": "a68d01a1-c78e-496c-9695-985c15644ab2",
   "metadata": {},
   "source": [
    "Group name: 2 / Student names: Rafa Africa, Ben Ni, Yingming Sha, Michael Tham\n",
    "\n",
    "Course: STAT 301 Section 201 / Date: 04/06/2025 "
   ]
  },
  {
   "cell_type": "markdown",
   "id": "559f8e58-639e-4deb-bda9-2dcc7746f535",
   "metadata": {},
   "source": [
    "## (1) Introduction"
   ]
  },
  {
   "cell_type": "markdown",
   "id": "819deded",
   "metadata": {},
   "source": [
    "Tipping is a widespread social norm in service industries, particularly in restaurants, where it can contribute significantly to employee income. However, tipping behavior is not entirely uniform—numerous studies have found that factors such as customer demographics, situational context, and group dynamics can all influence how much people tip (Jewell, 2008). Understanding what drives tipping behavior is valuable not only for economic modeling, but also for helping restaurant managers and servers improve their service strategies and expectations.\n",
    "\n",
    "This study explores whether variables such as payer’s gender, smoking status, day of the week, time of day, and party size are associated with the tip percentage left in a restaurant setting. Research has shown that, for instance, tipping tends to decrease as party size increases, likely due to a diffusion of responsibility or shared norms within larger groups (Haugom & Thrane, 2022). Similarly, differences in tipping patterns have been observed based on temporal variables like weekday vs. weekend or lunch vs. dinner (Jewell, 2008).\n",
    "\n",
    "Building upon these insights, this study aims to investigate the relationships between specific variables—payer’s gender, smoking status, day of the week, time of day, and dining party size—and tip percentage in a restaurant setting.\n",
    "\n",
    "This study contributes to the existing body of knowledge on tipping behavior by focusing on specific variables that have been identified in prior research as potential influencers of tipping practices. By examining these factors collectively, the study aims to provide a comprehensive understanding of their individual and combined effects on tip percentages."
   ]
  },
  {
   "cell_type": "markdown",
   "id": "22f122d3-4733-478c-856b-be071e95836f",
   "metadata": {},
   "source": [
    "### Research Question\n",
    "**Our Research Question**: Which variables, payer's gender, smoking status, day of the week, time of day, and dining party size, are associated with the tip percentage in a restaurant?\n",
    "\n",
    "**Response variable** - tip percentage (total bill divided by the tip amount left by customer);\n",
    "\n",
    "**Explanatory variables** - sex (gender), day (day of the week), time (Lunch or Dinner), and party size.\n",
    "\n",
    "**Explanation**: This question is focused on **inference**, as it aims to understand the relationships between the sex, smoker, day, time, party size and the tip percentage. The goal is to identify which factors are significant in determining the tip percentage, rather than predicting individual tip percentage for future transactions."
   ]
  },
  {
   "cell_type": "markdown",
   "id": "8a1c86fa-7490-4198-9b1a-9d6662dcace1",
   "metadata": {},
   "source": [
    "## (2) Methods and Results"
   ]
  },
  {
   "cell_type": "code",
   "execution_count": 5,
   "id": "6d0e14fc-492e-448f-a202-608e9672a65c",
   "metadata": {
    "vscode": {
     "languageId": "r"
    }
   },
   "outputs": [],
   "source": [
    "# First we load the library\n",
    "library(tidyverse)\n",
    "library(gridExtra) # for visualization\n",
    "library(MASS) # for selection\n",
    "library(car) # for vif\n",
    "library(httr) # load data"
   ]
  },
  {
   "cell_type": "markdown",
   "id": "66bc172f-049f-48a7-8c1d-a8563f8a33ed",
   "metadata": {},
   "source": [
    "### a) Data "
   ]
  },
  {
   "cell_type": "markdown",
   "id": "e421f5d4-12c1-4597-9894-e3b0e3217be1",
   "metadata": {},
   "source": [
    "#### Data Description \n",
    "\n",
    "The \"Restaurant Tips Dataset\" details tipping behavior in a restaurant setting. The dataset was collected over an long period of time and includes a variety of factors that may influence the amount a customer tips. Each entry represents a unique transaction, recording details such as the bill amount, tip given, gender of the payer, smoking preference, day of the week, time of day, and number of diners. This data contains 244 observations and 7 variables. The continuous variables are total_bill, tip, and size, while the categorical variables are sex, smoker, day, and time. \n",
    "\n",
    "The dataset used in this study was collected through observational means, meaning the data reflects real-world restaurant transactions without any experimental manipulation. As such, while we can investigate associations between variables and tip percentage, causal conclusions cannot be drawn."
   ]
  },
  {
   "cell_type": "markdown",
   "id": "3b5d93d2-9b7b-43fe-a5db-f5c79537ae69",
   "metadata": {},
   "source": [
    "**Description of each variable:**\n",
    "\n",
    "| id | Key       | Description|\n",
    "|----|-----------|-----------------------------------------------------------|\n",
    "|1   |total_bill | Total bill amount in dollars                               |\n",
    "|2   |tip        | Tip amount in dollars                                      |\n",
    "|3   |sex        | Gender of the person paying the bill (Male/Female)         |\n",
    "|4   |smoker     | Whether the person is a smoker (Yes/No)                    |\n",
    "|5   |day        | Day of the transaction (Thur/Fri/Sat/Sun)                  |\n",
    "|6   |time       | Time of day when the transaction took place (Lunch/Dinner) |\n",
    "|7   |size       | Size of the dining party (number of people)                |"
   ]
  },
  {
   "cell_type": "markdown",
   "id": "9848adaa",
   "metadata": {},
   "source": [
    "**Source and information**"
   ]
  },
  {
   "cell_type": "markdown",
   "id": "7f94d887",
   "metadata": {},
   "source": [
    "According to the owner of this dataset, Saurabh Badole, the data in this dataset was collected from a popular restaurant over a specified period (Badole, 2024). I retreived this dataset through Badole publishing it on Kaggle."
   ]
  },
  {
   "cell_type": "markdown",
   "id": "b9900042-ef68-4f6d-aee0-b3f39ebeec84",
   "metadata": {},
   "source": [
    "**Justification**: For this research question, total_bill and tip will be dropped since the tip percentage is calculated based on these two covariates. If we include these two covariates, there will be a multicollinearity issue."
   ]
  },
  {
   "cell_type": "code",
   "execution_count": 6,
   "id": "ff84b0ab-b54a-40b5-b81f-ccfc97f699d1",
   "metadata": {
    "vscode": {
     "languageId": "r"
    }
   },
   "outputs": [
    {
     "data": {
      "text/html": [
       "<table class=\"dataframe\">\n",
       "<caption>A data.frame: 6 x 7</caption>\n",
       "<thead>\n",
       "\t<tr><th></th><th scope=col>total_bill</th><th scope=col>tip</th><th scope=col>sex</th><th scope=col>smoker</th><th scope=col>day</th><th scope=col>time</th><th scope=col>size</th></tr>\n",
       "\t<tr><th></th><th scope=col>&lt;dbl&gt;</th><th scope=col>&lt;dbl&gt;</th><th scope=col>&lt;chr&gt;</th><th scope=col>&lt;chr&gt;</th><th scope=col>&lt;chr&gt;</th><th scope=col>&lt;chr&gt;</th><th scope=col>&lt;int&gt;</th></tr>\n",
       "</thead>\n",
       "<tbody>\n",
       "\t<tr><th scope=row>1</th><td>16.99</td><td>1.01</td><td>Female</td><td>No</td><td>Sun</td><td>Dinner</td><td>2</td></tr>\n",
       "\t<tr><th scope=row>2</th><td>10.34</td><td>1.66</td><td>Male  </td><td>No</td><td>Sun</td><td>Dinner</td><td>3</td></tr>\n",
       "\t<tr><th scope=row>3</th><td>21.01</td><td>3.50</td><td>Male  </td><td>No</td><td>Sun</td><td>Dinner</td><td>3</td></tr>\n",
       "\t<tr><th scope=row>4</th><td>23.68</td><td>3.31</td><td>Male  </td><td>No</td><td>Sun</td><td>Dinner</td><td>2</td></tr>\n",
       "\t<tr><th scope=row>5</th><td>24.59</td><td>3.61</td><td>Female</td><td>No</td><td>Sun</td><td>Dinner</td><td>4</td></tr>\n",
       "\t<tr><th scope=row>6</th><td>25.29</td><td>4.71</td><td>Male  </td><td>No</td><td>Sun</td><td>Dinner</td><td>4</td></tr>\n",
       "</tbody>\n",
       "</table>\n"
      ],
      "text/latex": [
       "A data.frame: 6 x 7\n",
       "\\begin{tabular}{r|lllllll}\n",
       "  & total\\_bill & tip & sex & smoker & day & time & size\\\\\n",
       "  & <dbl> & <dbl> & <chr> & <chr> & <chr> & <chr> & <int>\\\\\n",
       "\\hline\n",
       "\t1 & 16.99 & 1.01 & Female & No & Sun & Dinner & 2\\\\\n",
       "\t2 & 10.34 & 1.66 & Male   & No & Sun & Dinner & 3\\\\\n",
       "\t3 & 21.01 & 3.50 & Male   & No & Sun & Dinner & 3\\\\\n",
       "\t4 & 23.68 & 3.31 & Male   & No & Sun & Dinner & 2\\\\\n",
       "\t5 & 24.59 & 3.61 & Female & No & Sun & Dinner & 4\\\\\n",
       "\t6 & 25.29 & 4.71 & Male   & No & Sun & Dinner & 4\\\\\n",
       "\\end{tabular}\n"
      ],
      "text/markdown": [
       "\n",
       "A data.frame: 6 x 7\n",
       "\n",
       "| <!--/--> | total_bill &lt;dbl&gt; | tip &lt;dbl&gt; | sex &lt;chr&gt; | smoker &lt;chr&gt; | day &lt;chr&gt; | time &lt;chr&gt; | size &lt;int&gt; |\n",
       "|---|---|---|---|---|---|---|---|\n",
       "| 1 | 16.99 | 1.01 | Female | No | Sun | Dinner | 2 |\n",
       "| 2 | 10.34 | 1.66 | Male   | No | Sun | Dinner | 3 |\n",
       "| 3 | 21.01 | 3.50 | Male   | No | Sun | Dinner | 3 |\n",
       "| 4 | 23.68 | 3.31 | Male   | No | Sun | Dinner | 2 |\n",
       "| 5 | 24.59 | 3.61 | Female | No | Sun | Dinner | 4 |\n",
       "| 6 | 25.29 | 4.71 | Male   | No | Sun | Dinner | 4 |\n",
       "\n"
      ],
      "text/plain": [
       "  total_bill tip  sex    smoker day time   size\n",
       "1 16.99      1.01 Female No     Sun Dinner 2   \n",
       "2 10.34      1.66 Male   No     Sun Dinner 3   \n",
       "3 21.01      3.50 Male   No     Sun Dinner 3   \n",
       "4 23.68      3.31 Male   No     Sun Dinner 2   \n",
       "5 24.59      3.61 Female No     Sun Dinner 4   \n",
       "6 25.29      4.71 Male   No     Sun Dinner 4   "
      ]
     },
     "metadata": {},
     "output_type": "display_data"
    }
   ],
   "source": [
    "# Read the data into R\n",
    "invisible(\n",
    "GET(\n",
    "  url = \"https://www.kaggle.com/api/v1/datasets/download/saurabhbadole/restaurant-tips-dataset\",\n",
    "  authenticate(\"yingmingsha\", \"c52dacb47dd5f58ebfe40f4eb435b1b4\", type = \"basic\"),\n",
    "  write_disk(\"restaurant-tips-dataset.zip\", overwrite = TRUE)\n",
    "    )\n",
    ")\n",
    "\n",
    "unzip(\"restaurant-tips-dataset.zip\")\n",
    "\n",
    "tips <- read.csv(\"tips.csv\")\n",
    "\n",
    "head(tips)"
   ]
  },
  {
   "cell_type": "markdown",
   "id": "fb1bb32d-2751-4114-a189-b00da4ccb63d",
   "metadata": {},
   "source": [
    "### b) Exploratory Data Analysis (EDA)\n",
    "- Include 2 effective and creative visualizations : explore the association of some potential explanatory variables with the response (use colours, point types, point size and/or faceting to include more variables) and highlight potential problems (e.g., multicollinearity or outliers)\n",
    "- Transform some variables if needed and include a clear explanation (e.g. log-transformation may be useful when outliers are present)\n",
    "- Any summary tables that are relevant to your analysis (e.g., summarize number of observation in groups, indicate if NAs exist)\n",
    "- Be sure not to print output that takes up a lot of screen space!\n"
   ]
  },
  {
   "cell_type": "code",
   "execution_count": 7,
   "id": "10852f13-e27f-4c6a-888b-72b0ef11257f",
   "metadata": {
    "vscode": {
     "languageId": "r"
    }
   },
   "outputs": [
    {
     "data": {
      "text/html": [
       "<table class=\"dataframe\">\n",
       "<caption>A tibble: 2 x 2</caption>\n",
       "<thead>\n",
       "\t<tr><th scope=col>Metric</th><th scope=col>Count</th></tr>\n",
       "\t<tr><th scope=col>&lt;chr&gt;</th><th scope=col>&lt;int&gt;</th></tr>\n",
       "</thead>\n",
       "<tbody>\n",
       "\t<tr><td>Total Missing Values</td><td>0</td></tr>\n",
       "\t<tr><td>Total Duplicate Rows</td><td>1</td></tr>\n",
       "</tbody>\n",
       "</table>\n"
      ],
      "text/latex": [
       "A tibble: 2 x 2\n",
       "\\begin{tabular}{ll}\n",
       " Metric & Count\\\\\n",
       " <chr> & <int>\\\\\n",
       "\\hline\n",
       "\t Total Missing Values & 0\\\\\n",
       "\t Total Duplicate Rows & 1\\\\\n",
       "\\end{tabular}\n"
      ],
      "text/markdown": [
       "\n",
       "A tibble: 2 x 2\n",
       "\n",
       "| Metric &lt;chr&gt; | Count &lt;int&gt; |\n",
       "|---|---|\n",
       "| Total Missing Values | 0 |\n",
       "| Total Duplicate Rows | 1 |\n",
       "\n"
      ],
      "text/plain": [
       "  Metric               Count\n",
       "1 Total Missing Values 0    \n",
       "2 Total Duplicate Rows 1    "
      ]
     },
     "metadata": {},
     "output_type": "display_data"
    }
   ],
   "source": [
    "# Main developer: Yingming \n",
    "\n",
    "# Check missing values and duplicated rows\n",
    "summary_table <- tibble(\n",
    "  Metric = c(\"Total Missing Values\", \"Total Duplicate Rows\"),\n",
    "  Count = c(sum(is.na(tips)), sum(duplicated(tips))) \n",
    ")\n",
    "summary_table"
   ]
  },
  {
   "cell_type": "code",
   "execution_count": 8,
   "id": "9c4fdd71-2a95-413d-be47-f0ee7e574dcf",
   "metadata": {
    "vscode": {
     "languageId": "r"
    }
   },
   "outputs": [],
   "source": [
    "# Main developer: Yingming \n",
    "\n",
    "# Clean and wrangle the data into a tidy format\n",
    "tip_clean <- tips %>%\n",
    "    distinct() %>% # remove duplicated row\n",
    "    mutate(tip_per = tip / total_bill * 100) # calculate the bill percentage \n",
    "\n",
    "tip_final <- tip_clean %>%\n",
    "    dplyr::select(-total_bill, -tip) # drop 'total_bill' and 'tip' columns (justification given above)"
   ]
  },
  {
   "cell_type": "code",
   "execution_count": 9,
   "id": "3f7aaa47-48fb-4465-8e86-32c8049619c3",
   "metadata": {
    "vscode": {
     "languageId": "r"
    }
   },
   "outputs": [
    {
     "data": {
      "image/png": "[encoded data removed]",
      "text/plain": [
       "plot without title"
      ]
     },
     "metadata": {
      "image/png": {
       "height": 420,
       "width": 420
      }
     },
     "output_type": "display_data"
    }
   ],
   "source": [
    "# Main developer: Yingming\n",
    "\n",
    "# Summary tables that are relevant to the analysis\n",
    "summary_table_sex <- tip_final %>%\n",
    "  group_by(sex) %>%\n",
    "  summarize(\n",
    "      Count = n(),                         # Total count\n",
    "      Mean = mean(tip_per, na.rm = TRUE)   # Mean\n",
    "  )\n",
    "\n",
    "summary_table_smo <- tip_final %>%\n",
    "  group_by(smoker) %>%\n",
    "  summarize(\n",
    "    Count = n(),                                  \n",
    "    Mean = mean(tip_per, na.rm = TRUE) \n",
    "  )\n",
    "\n",
    "summary_table_day <- tip_final %>%\n",
    "  group_by(day) %>%\n",
    "  summarize(\n",
    "    Count = n(),                               \n",
    "    Mean = mean(tip_per, na.rm = TRUE)\n",
    "  )\n",
    "\n",
    "summary_table_time <- tip_final %>%\n",
    "  group_by(time) %>%\n",
    "  summarize(\n",
    "    Count = n(),                                \n",
    "    Mean = mean(tip_per, na.rm = TRUE)\n",
    "  )\n",
    "\n",
    "summary_table_size <- tip_final %>%\n",
    "  group_by(size) %>%\n",
    "  summarize(\n",
    "      Count = n(),      \n",
    "      Mean = mean(tip_per, na.rm = TRUE)   \n",
    "  )\n",
    "\n",
    "grid.arrange(\n",
    "  tableGrob(summary_table_sex), tableGrob(summary_table_smo),\n",
    "  tableGrob(summary_table_day), tableGrob(summary_table_time),\n",
    "  ncol = 2\n",
    ")"
   ]
  },
  {
   "cell_type": "markdown",
   "id": "2d8d7f25-76be-4e91-b9e5-ef42b1117ee6",
   "metadata": {},
   "source": [
    "**Interpretation of Summary Tables:**\n",
    "\n",
    "Since the dataset contains more categorical variables, the summary tables provide a basic overview of each covariate in relation to our response variable. From the tables, we can see that there is not much difference in the average tip percentage across sex, smoker status, day, and time. However, for party size, there appears to be a potential decrease in the average tip percentage as the party size increases."
   ]
  },
  {
   "cell_type": "code",
   "execution_count": 10,
   "id": "9b0c86bf-5f4c-445e-8e89-377bc05a2044",
   "metadata": {
    "vscode": {
     "languageId": "r"
    }
   },
   "outputs": [],
   "source": [
    "# need 2 visualizations (my previous visualization is about total_bill, does anyone have other visualization?) (!)"
   ]
  },
  {
   "cell_type": "markdown",
   "id": "52eb964a-557b-4523-a621-29aed58356c0",
   "metadata": {},
   "source": [
    "**The reasons why visualizations are relevant**: \n",
    "\n",
    "(!)"
   ]
  },
  {
   "cell_type": "markdown",
   "id": "f7304b46-6a2d-4e54-abf9-a92a21292f77",
   "metadata": {},
   "source": [
    "### c) Methods: Plan\n",
    "- Describe in written English the methods you used to perform your analysis from beginning to end.\n",
    "- Provide a detailed justification of the method(s) used. The analysis must be based primarily on methods learned in the class (other method can be used for comparison).\n",
    "- Make sure that the analysis responded the question posed and that the proposed method is appropriate for the characteristics of the data.\n",
    "- If variable selection methods are used, justify the method used and explain what data will be used.\n",
    "- If various models will be compared explain how you will select a final one.\n",
    "- Make sure to interpret/explain the results you obtain. It’s not enough to just say, “I fitted a linear model with these covariates, and my R-square is 0.87”: If inference is the aim of your project, a detailed interpretation of your fitted model is required, as well as a discussion of relevant quantities. For example, which coefficient(s) is(are) statistically significant? interpretation of significant coefficients, how does the model fit the data? among other points; If prediction is the project's aim, describe the test data used or how it was created; In both cases, a careful model assessment must be conducted.\n",
    "- Include no more than 3 visualizations and/or tables to support your points. Ensure your tables and/or figures are labelled with a figure/table number and readable fonts.\n",
    "\n",
    "Code: all the analysis, from reading the data to visualizing results, must be based on clean, reproducible and well-commented code"
   ]
  },
  {
   "cell_type": "markdown",
   "id": "95dbb56a-7ddc-4751-94b3-82c29ede879b",
   "metadata": {},
   "source": [
    "**Proposed Method:** Multiple Linear Regression\n",
    "\n",
    "**Why is this method appropriate?**\n",
    "\n",
    "This method is suitable because it allows us to model the relationship between a continuous response variable (tip percentage) and multiple predictor variables. The coefficients of the regression model will give us clear insights into how each predictor influences the tip percentage and easy to interpret.\n",
    "\n",
    "**Which assumptions are required, if any, to apply the method selected?**\n",
    "1. Linearity: The relationship between the predictors and the response variable is assumed to be linear. \n",
    "2. Independence: Observations are assumed to be independent of each other, meaning that the tip percentage of one transaction doesn’t affect others.\n",
    "3. Homoscedasticity: The variance of the residuals (errors) is assumed to be constant across all levels of the predictors.\n",
    "4. Normality of Residuals: The residuals are assumed to follow a normal distribution.\n",
    "\n",
    "**What are the potential limitations or weaknesses of the method selected?**\n",
    "1. Linearity Assumption: If the relationship between the predictors and the tip percentage is non-linear, the model may not perform well. \n",
    "2. Multicollinearity: If any of the predictors are highly correlated with each other (e.g., **day** and **time**), it could lead to multicollinearity, where it becomes difficult to isolate the effect of individual predictors. However, this can be checked using vif().\n",
    "\n",
    "**Variable Selection Method:** Stepwise Selection\n",
    "\n",
    "We will be using stepwise selection to refine our model and identify the most significant predictors of tip percentage. Stepwise selection is useful when there is some uncertainty about which predictors are most relevant, as it allows for both adding and removing variables based on statistical criteria. \n",
    "\n",
    "We will apply stepwise selection using AIC, which balances model fit and complexity. The response variable is tip percentage, and the predictors initially considered were sex, smoker status, day, time, and size."
   ]
  },
  {
   "cell_type": "markdown",
   "id": "22cf81c3-e146-4ade-8363-277d75e624bf",
   "metadata": {},
   "source": [
    "#### Computational Code and Output"
   ]
  },
  {
   "cell_type": "code",
   "execution_count": 11,
   "id": "ce3468c4-f56f-4f70-8130-fa98232ef720",
   "metadata": {
    "vscode": {
     "languageId": "r"
    }
   },
   "outputs": [
    {
     "data": {
      "text/html": [
       "<table class=\"dataframe\">\n",
       "<caption>A matrix: 5 x 3 of type dbl</caption>\n",
       "<thead>\n",
       "\t<tr><th></th><th scope=col>GVIF</th><th scope=col>Df</th><th scope=col>GVIF^(1/(2*Df))</th></tr>\n",
       "</thead>\n",
       "<tbody>\n",
       "\t<tr><th scope=row>sex</th><td> 1.057406</td><td>1</td><td>1.028303</td></tr>\n",
       "\t<tr><th scope=row>smoker</th><td> 1.133435</td><td>1</td><td>1.064629</td></tr>\n",
       "\t<tr><th scope=row>day</th><td>10.460180</td><td>3</td><td>1.478847</td></tr>\n",
       "\t<tr><th scope=row>time</th><td> 8.997935</td><td>1</td><td>2.999656</td></tr>\n",
       "\t<tr><th scope=row>size</th><td> 1.061287</td><td>1</td><td>1.030188</td></tr>\n",
       "</tbody>\n",
       "</table>\n"
      ],
      "text/latex": [
       "A matrix: 5 x 3 of type dbl\n",
       "\\begin{tabular}{r|lll}\n",
       "  & GVIF & Df & GVIF\\textasciicircum{}(1/(2*Df))\\\\\n",
       "\\hline\n",
       "\tsex &  1.057406 & 1 & 1.028303\\\\\n",
       "\tsmoker &  1.133435 & 1 & 1.064629\\\\\n",
       "\tday & 10.460180 & 3 & 1.478847\\\\\n",
       "\ttime &  8.997935 & 1 & 2.999656\\\\\n",
       "\tsize &  1.061287 & 1 & 1.030188\\\\\n",
       "\\end{tabular}\n"
      ],
      "text/markdown": [
       "\n",
       "A matrix: 5 x 3 of type dbl\n",
       "\n",
       "| <!--/--> | GVIF | Df | GVIF^(1/(2*Df)) |\n",
       "|---|---|---|---|\n",
       "| sex |  1.057406 | 1 | 1.028303 |\n",
       "| smoker |  1.133435 | 1 | 1.064629 |\n",
       "| day | 10.460180 | 3 | 1.478847 |\n",
       "| time |  8.997935 | 1 | 2.999656 |\n",
       "| size |  1.061287 | 1 | 1.030188 |\n",
       "\n"
      ],
      "text/plain": [
       "       GVIF      Df GVIF^(1/(2*Df))\n",
       "sex     1.057406 1  1.028303       \n",
       "smoker  1.133435 1  1.064629       \n",
       "day    10.460180 3  1.478847       \n",
       "time    8.997935 1  2.999656       \n",
       "size    1.061287 1  1.030188       "
      ]
     },
     "metadata": {},
     "output_type": "display_data"
    },
    {
     "data": {
      "text/plain": [
       "\n",
       "Call:\n",
       "lm(formula = tip_per ~ ., data = tip_final)\n",
       "\n",
       "Residuals:\n",
       "    Min      1Q  Median      3Q     Max \n",
       "-12.172  -3.156  -0.401   2.872  53.445 \n",
       "\n",
       "Coefficients:\n",
       "            Estimate Std. Error t value Pr(>|t|)    \n",
       "(Intercept)  18.3120     2.0791   8.808 2.86e-16 ***\n",
       "sexMale      -0.8724     0.8383  -1.041   0.2991    \n",
       "smokerYes     0.3911     0.8557   0.457   0.6481    \n",
       "daySat       -0.1646     1.8381  -0.090   0.9287    \n",
       "daySun        1.6886     1.9071   0.885   0.3768    \n",
       "dayThur      -1.7726     2.3282  -0.761   0.4472    \n",
       "timeLunch     2.3383     2.6168   0.894   0.3725    \n",
       "size         -0.9651     0.4226  -2.284   0.0233 *  \n",
       "---\n",
       "Signif. codes:  0 '***' 0.001 '**' 0.01 '*' 0.05 '.' 0.1 ' ' 1\n",
       "\n",
       "Residual standard error: 6.077 on 235 degrees of freedom\n",
       "Multiple R-squared:  0.04239,\tAdjusted R-squared:  0.01387 \n",
       "F-statistic: 1.486 on 7 and 235 DF,  p-value: 0.1729\n"
      ]
     },
     "metadata": {},
     "output_type": "display_data"
    }
   ],
   "source": [
    "# Main developer: Yingming \n",
    "\n",
    "# Null model with no covariates\n",
    "tip_null <- lm(tip_per ~ 1, data = tip_final)\n",
    "# Full model with all the covariates\n",
    "tip_full <- lm(tip_per ~ ., data = tip_final)\n",
    "\n",
    "# Multicollinearity Issue Check\n",
    "vif(tip_full) # i am not sure if we need to check this, what do you guys think? (!)\n",
    "\n",
    "summary(tip_full)"
   ]
  },
  {
   "cell_type": "markdown",
   "id": "ff5b9325-b584-408b-adf1-0371847f6dd4",
   "metadata": {},
   "source": [
    "**Interpretation of the Full Model:**  \n",
    "The model predicts tip percentage using all covariates, including sex, smoker, day, time, and size. \n",
    "\n",
    "The coefficient for `sexMale` is **-0.87** (p = 0.299), indicating that, on average, men tend to tip **0.87% less** than women. However, this effect is **not statistically significant** due to the p-value is large than 0.05, suggesting that sex does not have a strong influence on tip percentage in this dataset.\n",
    "\n",
    "The coefficient for `smokerYes` is **0.39** (p = 0.648), meaning that smokers tip **0.39% more** than non-smokers. Again, this result is **not statistically significant** due to the p-value is large than 0.05, meaning that there is no strong evidence that smoker status affects tipping behavior.\n",
    "\n",
    "The reference category for `day` is Friday.\n",
    "- Compared to Friday:\n",
    "  - Saturday: **-0.16** (p = 0.929) → meaning that Saturday customers tip **0.16% less** than Friday\n",
    "  - Sunday: **1.69** (p = 0.377) → meaning that Sunday customers tip **1.69% more** than Friday\n",
    "  - Thursday: **-1.77** (p = 0.447) → meaning that Thursday customers tip **1.77% less** than Friday\n",
    "- However, none of these coefficients are significant, **tip percentages do not vary significantly by day of the week**.\n",
    "\n",
    "The coefficient for `timeLunch` is **2.34** (p = 0.373), suggesting that lunch-time customers tip **2.34% more** than dinner customers. However, this result is **not statistically significant** due to the p-value is large than 0.05, so there is no strong evidence that time of day affects tipping behavior.\n",
    "\n",
    "The coefficient for `size` is **-0.97** (p = 0.023), meaning that for each additional person in the party, the **tip percentage decreases by 0.97%**. This effect **is statistically significant** due to the p-value is smaller than 0.05, suggesting a real trend where larger groups tend to tip a lower percentage of their bill.\n",
    "\n",
    "Therefore, from the full model summary, only significant predictor in the model is **size**, indicating that as the number of diners increases, the tip percentage decreases. "
   ]
  },
  {
   "cell_type": "code",
   "execution_count": 12,
   "id": "bf82b102-b682-460b-8baf-0f90cd861cc9",
   "metadata": {
    "vscode": {
     "languageId": "r"
    }
   },
   "outputs": [
    {
     "name": "stdout",
     "output_type": "stream",
     "text": [
      "Start:  AIC=884.86\n",
      "tip_per ~ sex + smoker + day + time + size\n",
      "\n",
      "         Df Sum of Sq    RSS    AIC\n",
      "- smoker  1     7.713 8686.5 883.08\n",
      "- day     3   164.195 8843.0 883.42\n",
      "- time    1    29.488 8708.2 883.69\n",
      "- sex     1    39.992 8718.8 883.98\n",
      "<none>                8678.8 884.86\n",
      "- size    1   192.620 8871.4 888.20\n",
      "\n",
      "Step:  AIC=883.08\n",
      "tip_per ~ sex + day + time + size\n",
      "\n",
      "       Df Sum of Sq    RSS    AIC\n",
      "- day   3   158.503 8845.0 881.47\n",
      "- time  1    30.895 8717.4 881.94\n",
      "- sex   1    39.023 8725.5 882.17\n",
      "<none>              8686.5 883.08\n",
      "- size  1   200.659 8887.1 886.63\n",
      "\n",
      "Step:  AIC=881.47\n",
      "tip_per ~ sex + time + size\n",
      "\n",
      "       Df Sum of Sq    RSS    AIC\n",
      "- time  1     0.832 8845.8 879.50\n",
      "- sex   1    28.148 8873.1 880.25\n",
      "<none>              8845.0 881.47\n",
      "- size  1   168.980 9014.0 884.07\n",
      "\n",
      "Step:  AIC=879.5\n",
      "tip_per ~ sex + size\n",
      "\n",
      "       Df Sum of Sq    RSS    AIC\n",
      "- sex   1    31.173 8877.0 878.35\n",
      "<none>              8845.8 879.50\n",
      "- size  1   172.275 9018.1 882.18\n",
      "\n",
      "Step:  AIC=878.35\n",
      "tip_per ~ size\n",
      "\n",
      "       Df Sum of Sq  RSS    AIC\n",
      "<none>              8877 878.35\n",
      "- size  1    185.98 9063 881.39\n"
     ]
    }
   ],
   "source": [
    "# Main developer: Yingming \n",
    "\n",
    "# Use stepwise selection to find the reduced model (\"backward\" direction)\n",
    "tip_backward <- stepAIC(tip_full, direction = \"backward\", k = 2)"
   ]
  },
  {
   "cell_type": "markdown",
   "id": "af10f550-71be-4cac-b4ab-46de6695c126",
   "metadata": {},
   "source": [
    "Using backward stepwise selection, it was found that party size (`size`) is the most important factor influencing tip percentage, while other variables (such as sex, smoker status, day of the week, and time of day) do not contribute meaningfully when party size is accounted for. This finding aligns with our previous interpretation of the full model, where party size was the only significant predictor of tip percentage."
   ]
  },
  {
   "cell_type": "code",
   "execution_count": 13,
   "id": "e670f670-4904-4abe-8517-02e5ee0d1592",
   "metadata": {
    "vscode": {
     "languageId": "r"
    }
   },
   "outputs": [
    {
     "name": "stdout",
     "output_type": "stream",
     "text": [
      "Start:  AIC=881.39\n",
      "tip_per ~ 1\n",
      "\n",
      "         Df Sum of Sq    RSS    AIC\n",
      "+ size    1   185.981 8877.0 878.35\n",
      "<none>                9063.0 881.39\n",
      "+ sex     1    44.879 9018.1 882.18\n",
      "+ time    1    11.012 9052.0 883.09\n",
      "+ smoker  1     9.007 9054.0 883.15\n",
      "+ day     3    95.141 8967.8 884.83\n",
      "\n",
      "Step:  AIC=878.35\n",
      "tip_per ~ size\n",
      "\n",
      "         Df Sum of Sq    RSS    AIC\n",
      "<none>                8877.0 878.35\n",
      "+ sex     1    31.173 8845.8 879.50\n",
      "+ time    1     3.857 8873.1 880.25\n",
      "+ smoker  1     1.516 8875.5 880.31\n",
      "+ day     3   119.815 8757.2 881.05\n"
     ]
    }
   ],
   "source": [
    "# Main developer: Yingming \n",
    "\n",
    "# Use stepwise selection to find the reduced model (\"forward\" direction)\n",
    "tip_forward <- MASS::stepAIC(tip_null, direction = \"forward\",\n",
    "              scope = list(lower = tip_null, upper = tip_full), k = 2)"
   ]
  },
  {
   "cell_type": "markdown",
   "id": "8a89cd68-1a67-4112-be23-5ed2b3c5f493",
   "metadata": {},
   "source": [
    "Both backward and forward stepwise selection methods led to the same conclusion: party size (`size`) is the most important factor influencing tip percentage, while the other variables do not contribute meaningfully."
   ]
  },
  {
   "cell_type": "code",
   "execution_count": 14,
   "id": "ae52e0f2-b600-41f1-9ab2-4ebc8842a11a",
   "metadata": {
    "vscode": {
     "languageId": "r"
    }
   },
   "outputs": [
    {
     "data": {
      "text/plain": [
       "\n",
       "Call:\n",
       "lm(formula = tip_per ~ size, data = tip_final)\n",
       "\n",
       "Residuals:\n",
       "    Min      1Q  Median      3Q     Max \n",
       "-13.046  -3.109  -0.588   3.144  54.425 \n",
       "\n",
       "Coefficients:\n",
       "            Estimate Std. Error t value Pr(>|t|)    \n",
       "(Intercept)  18.4507     1.1233  16.426   <2e-16 ***\n",
       "size         -0.9205     0.4097  -2.247   0.0255 *  \n",
       "---\n",
       "Signif. codes:  0 '***' 0.001 '**' 0.01 '*' 0.05 '.' 0.1 ' ' 1\n",
       "\n",
       "Residual standard error: 6.069 on 241 degrees of freedom\n",
       "Multiple R-squared:  0.02052,\tAdjusted R-squared:  0.01646 \n",
       "F-statistic: 5.049 on 1 and 241 DF,  p-value: 0.02554\n"
      ]
     },
     "metadata": {},
     "output_type": "display_data"
    }
   ],
   "source": [
    "# Main developer: Yingming \n",
    "\n",
    "# Fit the model using the selected variables\n",
    "tip_select <- lm(tip_per ~ size, data = tip_final)\n",
    "summary(tip_select)"
   ]
  },
  {
   "cell_type": "markdown",
   "id": "8c9b6342-ff8d-4787-85b1-b9e83af19b67",
   "metadata": {},
   "source": [
    "#### Table.1"
   ]
  },
  {
   "cell_type": "code",
   "execution_count": 15,
   "id": "231063b3-fd4a-4838-bd45-9507ce384397",
   "metadata": {
    "vscode": {
     "languageId": "r"
    }
   },
   "outputs": [
    {
     "data": {
      "text/html": [
       "<table class=\"dataframe\">\n",
       "<caption>A anova: 2 x 6</caption>\n",
       "<thead>\n",
       "\t<tr><th></th><th scope=col>Res.Df</th><th scope=col>RSS</th><th scope=col>Df</th><th scope=col>Sum of Sq</th><th scope=col>F</th><th scope=col>Pr(&gt;F)</th></tr>\n",
       "\t<tr><th></th><th scope=col>&lt;dbl&gt;</th><th scope=col>&lt;dbl&gt;</th><th scope=col>&lt;dbl&gt;</th><th scope=col>&lt;dbl&gt;</th><th scope=col>&lt;dbl&gt;</th><th scope=col>&lt;dbl&gt;</th></tr>\n",
       "</thead>\n",
       "<tbody>\n",
       "\t<tr><th scope=row>1</th><td>241</td><td>8876.981</td><td>NA</td><td>      NA</td><td>       NA</td><td>       NA</td></tr>\n",
       "\t<tr><th scope=row>2</th><td>235</td><td>8678.760</td><td> 6</td><td>198.2209</td><td>0.8945577</td><td>0.4995313</td></tr>\n",
       "</tbody>\n",
       "</table>\n"
      ],
      "text/latex": [
       "A anova: 2 x 6\n",
       "\\begin{tabular}{r|llllll}\n",
       "  & Res.Df & RSS & Df & Sum of Sq & F & Pr(>F)\\\\\n",
       "  & <dbl> & <dbl> & <dbl> & <dbl> & <dbl> & <dbl>\\\\\n",
       "\\hline\n",
       "\t1 & 241 & 8876.981 & NA &       NA &        NA &        NA\\\\\n",
       "\t2 & 235 & 8678.760 &  6 & 198.2209 & 0.8945577 & 0.4995313\\\\\n",
       "\\end{tabular}\n"
      ],
      "text/markdown": [
       "\n",
       "A anova: 2 x 6\n",
       "\n",
       "| <!--/--> | Res.Df &lt;dbl&gt; | RSS &lt;dbl&gt; | Df &lt;dbl&gt; | Sum of Sq &lt;dbl&gt; | F &lt;dbl&gt; | Pr(&gt;F) &lt;dbl&gt; |\n",
       "|---|---|---|---|---|---|---|\n",
       "| 1 | 241 | 8876.981 | NA |       NA |        NA |        NA |\n",
       "| 2 | 235 | 8678.760 |  6 | 198.2209 | 0.8945577 | 0.4995313 |\n",
       "\n"
      ],
      "text/plain": [
       "  Res.Df RSS      Df Sum of Sq F         Pr(>F)   \n",
       "1 241    8876.981 NA       NA         NA        NA\n",
       "2 235    8678.760  6 198.2209  0.8945577 0.4995313"
      ]
     },
     "metadata": {},
     "output_type": "display_data"
    }
   ],
   "source": [
    "# Main developer: Yingming\n",
    "\n",
    "# Compare the selected model and the full model using ANOVA\n",
    "anova(tip_select, tip_full)"
   ]
  },
  {
   "cell_type": "markdown",
   "id": "c3eaede4-d4da-4d2a-be6d-3aad56f43766",
   "metadata": {},
   "source": [
    "**Interpretation of the results**:\n",
    "\n",
    "The p-value (0.4995) from the ANOVA table indicates that the reduced model (simple linear regression with only size as the covariate) does not provide a worse fit than the full model (multiple linear regression with all covariates). Therefore, dining party size is associated with tip percentage, while the other variables do not show the same effect.\n",
    "\n",
    "An unexpected result is that, due to most variables being categorical, the stepwise selection removed them, even though some dummy variables might still be associated with the response variable, which suggests the need to explore interaction terms. The coefficient for size indicates that with each additional unit increase in dining party size, the expected tip percentage decreases by 0.92, which is also concerning."
   ]
  },
  {
   "cell_type": "markdown",
   "id": "1e40e88b-bfb0-4b41-8de9-606836742219",
   "metadata": {},
   "source": [
    "### (3) Discussion (!)\n",
    "In this section, you’ll interpret and reflect on the results you obtained in the previous section with respect to the main question/goal of your project.\n",
    "- Summarize what you found and the implications/impact of your findings\n",
    "- If relevant, discuss whether your results were what you expected to find\n",
    "- Discuss how your model could be improved\n",
    "- Discuss future questions/research this study could lead to"
   ]
  },
  {
   "cell_type": "markdown",
   "id": "1b1eea44-1db0-4c8c-af5e-d63c3fa53a3a",
   "metadata": {},
   "source": [
    "### (4) References (!)\n",
    "\n",
    "Badole, S. (2021). Restaurant Tips Dataset. Kaggle. https://www.kaggle.com/datasets/saurabhbadole/restaurant-tips-dataset/data\n",
    "\n",
    "Haugom, E., & Thrane, C. (2022). The Effects of Party Size and Dining Time on Restaurant Patrons’ Tipping Behavior: Results from a Large-Scale Transaction Database. Retrieved from https://papers.ssrn.com/sol3/Delivery.cfm/SSRN_ID4101280_code5225184.pdf?abstractid=4101280&mirid=1\n",
    "\n",
    "Jewell, C. N. (2008). Factors Influencing Tipping Behavior in a Restaurant. Psi Chi Journal of Undergraduate Research, 13(1), 38–48. Retrieved from https://cdn.ymaws.com/www.psichi.org/resource/resmgr/journal_2008/Spring08JNJewell.pdf"
   ]
  }
 ],
 "metadata": {
  "kernelspec": {
   "display_name": "R",
   "language": "R",
   "name": "ir"
  },
  "language_info": {
   "codemirror_mode": "r",
   "file_extension": ".r",
   "mimetype": "text/x-r-source",
   "name": "R",
   "pygments_lexer": "r",
   "version": "4.4.2"
  }
 },
 "nbformat": 4,
 "nbformat_minor": 5
}
